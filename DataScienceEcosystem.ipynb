{
 "cells": [
  {
   "cell_type": "markdown",
   "id": "63e11889-3cb5-407d-8023-e12a6bcd97bc",
   "metadata": {
    "tags": []
   },
   "source": [
    "# Data Science Tools and Ecosystem"
   ]
  },
  {
   "cell_type": "markdown",
   "id": "3dce40ff-1862-48ef-8203-59271df1e5c2",
   "metadata": {},
   "source": [
    "In this notebook, Data Science Tools and Ecosystem are summarized."
   ]
  },
  {
   "cell_type": "markdown",
   "id": "ca6f12a0-f93d-4499-9a73-4322b869b2a8",
   "metadata": {},
   "source": [
    "**Objectives:**\n",
    "\n",
    "* List popular languages of Data Science\n",
    "* List commonly used libraries for data science\n",
    "* List data science tools in a table"
   ]
  },
  {
   "cell_type": "markdown",
   "id": "8b8f3a73-965a-4ac4-a4cc-1b818beb4215",
   "metadata": {},
   "source": [
    "Some of the popular languages that Data Scientists use are:\n",
    "1. Python \n",
    "2. Javascript\n",
    "3. R\n",
    "4. SQL"
   ]
  },
  {
   "cell_type": "markdown",
   "id": "e941f387-5d90-4251-ae37-7bf745e811c3",
   "metadata": {},
   "source": [
    "Some of the commonly used libraries used by Data Scientists include:\n",
    "1. NumPy and Matplotlib for python. \n",
    "2. ggplot2 for R \n",
    "3. Tensorflow "
   ]
  },
  {
   "cell_type": "markdown",
   "id": "ac0ff54a-af79-48b3-8e4e-3c1642ee0bc7",
   "metadata": {},
   "source": [
    "| Data Science Tools |\n",
    "|--------------------|\n",
    "| R Studio |\n",
    "| Jupyter Notebook | \n",
    "| Apache Zeppelin |"
   ]
  },
  {
   "cell_type": "markdown",
   "id": "9d11ae7c-6174-44e2-9c20-b508d2113d00",
   "metadata": {},
   "source": [
    "### Below are a few examples of evaluating arithmetic expressions in Python"
   ]
  },
  {
   "cell_type": "code",
   "execution_count": 7,
   "id": "e29e4207-7134-462e-914d-bd76575ec774",
   "metadata": {
    "tags": []
   },
   "outputs": [
    {
     "data": {
      "text/plain": [
       "17"
      ]
     },
     "execution_count": 7,
     "metadata": {},
     "output_type": "execute_result"
    }
   ],
   "source": [
    "# This a simple arithmetic expression to mutiply then add integers\n",
    "(3*4)+5"
   ]
  },
  {
   "cell_type": "code",
   "execution_count": 16,
   "id": "7600947b-4fe3-46f4-a851-98c66c5e53bf",
   "metadata": {
    "tags": []
   },
   "outputs": [
    {
     "name": "stdout",
     "output_type": "stream",
     "text": [
      "3.3333333333333335\n"
     ]
    }
   ],
   "source": [
    "# This will convert 200 minutes to hours by diving by 60\n",
    "\n",
    "minutes = 200\n",
    "hours = minutes/60\n",
    "print(hours)"
   ]
  },
  {
   "cell_type": "markdown",
   "id": "60273bd9-7073-4c75-bcf2-ee43a84f9346",
   "metadata": {},
   "source": [
    "## Author \n",
    "Rohit Roy "
   ]
  },
  {
   "cell_type": "code",
   "execution_count": null,
   "id": "d3856943-e5c3-4639-85b8-5cf37308bdd1",
   "metadata": {},
   "outputs": [],
   "source": []
  }
 ],
 "metadata": {
  "kernelspec": {
   "display_name": "Python",
   "language": "python",
   "name": "conda-env-python-py"
  },
  "language_info": {
   "codemirror_mode": {
    "name": "ipython",
    "version": 3
   },
   "file_extension": ".py",
   "mimetype": "text/x-python",
   "name": "python",
   "nbconvert_exporter": "python",
   "pygments_lexer": "ipython3",
   "version": "3.7.12"
  }
 },
 "nbformat": 4,
 "nbformat_minor": 5
}
